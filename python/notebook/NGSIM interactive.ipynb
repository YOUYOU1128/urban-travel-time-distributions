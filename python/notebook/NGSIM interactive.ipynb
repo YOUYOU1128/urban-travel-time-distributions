{
 "metadata": {
  "name": "NGSIM interactive"
 },
 "nbformat": 3,
 "nbformat_minor": 0,
 "worksheets": [
  {
   "cells": [
    {
     "cell_type": "code",
     "collapsed": false,
     "input": [
      "%pylab"
     ],
     "language": "python",
     "metadata": {},
     "outputs": [
      {
       "output_type": "stream",
       "stream": "stdout",
       "text": [
        "\n",
        "Welcome to pylab, a matplotlib-based Python environment [backend: MacOSX].\n",
        "For more information, type 'help(pylab)'.\n"
       ]
      }
     ],
     "prompt_number": 1
    },
    {
     "cell_type": "code",
     "collapsed": false,
     "input": [
      "'''\n",
      "Created on Mar 8, 2013\n",
      "\n",
      "@author: audehofleitner\n",
      "'''\n",
      "\n",
      "import pandas as pd\n",
      "from pandas import DataFrame, Series\n",
      "from datetime import datetime, timedelta\n",
      "import os\n",
      "\n",
      "FIELDS = (['veh_id', 'frame_id', 'epoch_time', 'local_x', 'local_y',\n",
      "           'veh_vel', 'lane_id', 'o_zone', 'd_zone', 'intersection',\n",
      "           'section', 'direction', 'mvmt'])\n",
      "\n",
      "def get_data(direction, network='Peachtree', time='0400pm-0415pm'):\n",
      "  \"\"\"\n",
      "  direction: 2 - north-bound (NB) or 4 - south-bound (SB)\n",
      "  network: Peachtree\n",
      "  time: 0400pm-0415pm\n",
      "  \"\"\"\n",
      "  fname = '{0}/NGSIM/{1}/vehicle-trajectory-data/{2}/trajectories-{2}.csv'.format(data_dir(), network, time)\n",
      "  data = pd.read_csv(fname)\n",
      "  data = data[FIELDS]\n",
      "  data = data[data['mvmt'] == 1]\n",
      "  data = data[data['direction'] == direction]\n",
      "  data['time'] = (data['epoch_time'] - data['epoch_time'].min()) / 1000.0\n",
      "  data['date'] = data['time'].map(lambda d: datetime(2008, 11, 8, 16, 0, 0) + timedelta(seconds=d))\n",
      "  data['local_y'] = data['local_y'] / 0.3048\n",
      "  data['local_x'] = data['local_x'] / 0.3048\n",
      "  return data\n",
      "\n",
      "def get_travel_times(df):\n",
      "  df = df[df['section'] != 0]\n",
      "  g = df['time'].groupby([df['veh_id'], df['section']])\n",
      "  res = DataFrame(g.max() - g.min())\n",
      "  res.columns = ['tt']\n",
      "  res['time'] = g.min()\n",
      "  res = res.reset_index()\n",
      "  return res\n",
      "\n",
      "def data_dir():\n",
      "  \"\"\" Directory that contains the local data.\n",
      "\n",
      "  The default value is overriden if the environment variable\n",
      "  MM_DATA_DIR is defined. In this case, the value of this variable\n",
      "  is returned instead.\n",
      "  \"\"\"\n",
      "  if 'MM_DATA_DIR' in os.environ:\n",
      "    return os.environ['MM_DATA_DIR']\n",
      "  raise Exception('Check that the environment variable MM_DATA_DIR is setup')"
     ],
     "language": "python",
     "metadata": {},
     "outputs": [],
     "prompt_number": 2
    },
    {
     "cell_type": "code",
     "collapsed": false,
     "input": [
      "import matplotlib.pyplot as plt\n",
      "import matplotlib\n",
      "from matplotlib.widgets import Slider, RadioButtons\n",
      "\n",
      "FIGURES_DIR = '/Users/audehofleitner/Documents/general-purpose/projects/arterial/paper/Annals_applied_stat_traffic_dist/images/'"
     ],
     "language": "python",
     "metadata": {},
     "outputs": [],
     "prompt_number": 3
    },
    {
     "cell_type": "code",
     "collapsed": false,
     "input": [
      "# Gets the data for Northbound direction (south bound is 4)\n",
      "df = get_data(2)"
     ],
     "language": "python",
     "metadata": {},
     "outputs": [],
     "prompt_number": 4
    },
    {
     "cell_type": "code",
     "collapsed": false,
     "input": [
      "g = df['date'].groupby([df['veh_id'], df['section']])\n",
      "res = DataFrame([(g.max() - g.min()), g.min()]).T\n",
      "res.columns = ['tt', 'date']\n",
      "res['tt'] = res['tt'].map(timedelta.total_seconds)\n",
      "res = res.reset_index()\n",
      "res = res.set_index('date')\n",
      "res = res.sort()\n",
      "tt = res\n",
      "sections = [2, 3, 5]"
     ],
     "language": "python",
     "metadata": {},
     "outputs": [],
     "prompt_number": 11
    },
    {
     "cell_type": "code",
     "collapsed": false,
     "input": [
      "import matplotlib.cm as cm\n",
      "s = 5\n",
      "sec_tt = tt[tt['section'] == s]['tt']\n",
      "ts = sec_tt.resample('5S', how='median').fillna(0)\n",
      "resamp_tt = ts.values\n",
      "\n",
      "fig = plt.figure()\n",
      "val_slider = 100\n",
      "n_col = np.floor(val_slider / 5)\n",
      "\n",
      "fig_ax = plt.axes([0.05, 0.12, 0.9, 0.85])\n",
      "temp_tt = np.zeros(n_col * (1 + np.floor(len(resamp_tt) / n_col)))\n",
      "temp_tt[: len(resamp_tt)] = resamp_tt\n",
      "im = fig_ax.pcolormesh(temp_tt.reshape((-1, n_col)), cmap=cm.gray)\n",
      "c = plt.colorbar(im)\n",
      "c.set_label('Travel time (s)')\n",
      "\n",
      "def on_change(val):\n",
      "    global n_col, fig_ax\n",
      "    fig_ax.cla()\n",
      "    n_col = np.floor(val / 5)\n",
      "    temp_tt = np.zeros(n_col * (np.floor(len(resamp_tt) / n_col) + 1))\n",
      "    temp_tt[: len(resamp_tt)] = resamp_tt\n",
      "    fig_ax.pcolormesh(temp_tt.reshape((-1, n_col)), cmap=cm.gray)\n",
      "    plt.draw()\n",
      "    \n",
      "def change_section(section):\n",
      "    global resamp_tt, fig_ax\n",
      "    fig_ax.cla()\n",
      "    tmp_ts = tt[tt['section'] == int(section)]['tt']\n",
      "    resamp_tt = tmp_ts.resample('5S', how='median').fillna(0).values\n",
      "    tmp_tt = np.zeros(n_col * (1 + np.floor(len(resamp_tt) / n_col)))\n",
      "    tmp_tt[: len(resamp_tt)] = resamp_tt\n",
      "    fig_ax.pcolormesh(tmp_tt.reshape((-1, n_col)), cmap=cm.gray)\n",
      "    plt.draw()\n",
      "\n",
      "slider_ax = plt.axes([0.12, 0.02, 0.8, 0.02])\n",
      "slider = Slider(slider_ax, \"Period (s)\", 0, 400, valinit=val_slider, color='#AAAAAA', valfmt='%0.0f')\n",
      "slider.on_changed(on_change)\n",
      "\n",
      "rax = plt.axes([0.92, 0.1, 0.06, 0.15])\n",
      "radio = RadioButtons(rax, sections)\n",
      "radio.on_clicked(change_section)\n",
      "\n"
     ],
     "language": "python",
     "metadata": {},
     "outputs": [
      {
       "output_type": "pyout",
       "prompt_number": 73,
       "text": [
        "0"
       ]
      }
     ],
     "prompt_number": 73
    },
    {
     "cell_type": "code",
     "collapsed": false,
     "input": [],
     "language": "python",
     "metadata": {},
     "outputs": [
      {
       "output_type": "pyout",
       "prompt_number": 20,
       "text": [
        "182"
       ]
      }
     ],
     "prompt_number": 20
    },
    {
     "cell_type": "code",
     "collapsed": false,
     "input": [],
     "language": "python",
     "metadata": {},
     "outputs": []
    }
   ],
   "metadata": {}
  }
 ]
}